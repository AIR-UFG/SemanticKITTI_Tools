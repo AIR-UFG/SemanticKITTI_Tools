{
 "cells": [
  {
   "cell_type": "code",
   "execution_count": 5,
   "id": "93a83d23",
   "metadata": {},
   "outputs": [],
   "source": [
    "#|default_exp data"
   ]
  },
  {
   "cell_type": "code",
   "execution_count": 2,
   "id": "cd5340c0",
   "metadata": {},
   "outputs": [],
   "source": [
    "#| export\n",
    "import torch, os\n",
    "import numpy as np\n",
    "from torch.utils.data import Dataset\n",
    "from PIL import Image"
   ]
  },
  {
   "cell_type": "code",
   "execution_count": 3,
   "id": "23826228",
   "metadata": {},
   "outputs": [],
   "source": [
    "#| export\n",
    "class SemanticDataset(Dataset):\n",
    "    def __init__(self, image_path, mask_path, transforms=None):\n",
    "        self.image_path = image_path\n",
    "        self.mask_path = mask_path\n",
    "        self.transforms = transforms\n",
    "        self.image_filenames = os.listdir(image_path)\n",
    "        self.mask_filenames = os.listdir(mask_path)\n",
    "\n",
    "    def __len__(self):\n",
    "        return len(self.image_filenames)\n",
    "\n",
    "    def __getitem__(self, idx):\n",
    "        img_name = os.path.join(self.image_path, self.image_filenames[idx])\n",
    "        mask_name = os.path.join(self.mask_path, self.mask_filenames[idx])\n",
    "\n",
    "        image = np.array(Image.open(img_name))\n",
    "        mask = np.array(Image.open(mask_name))\n",
    "\n",
    "        if self.transforms:\n",
    "            image = self.transforms(image)\n",
    "            mask = torch.from_numpy(mask.astype(np.int64))\n",
    "\n",
    "        return image, mask"
   ]
  },
  {
   "cell_type": "code",
   "execution_count": 6,
   "id": "d065a32a",
   "metadata": {},
   "outputs": [],
   "source": [
    "#| hide\n",
    "import nbdev; nbdev.nbdev_export()"
   ]
  }
 ],
 "metadata": {
  "kernelspec": {
   "display_name": "Python 3",
   "language": "python",
   "name": "python3"
  },
  "language_info": {
   "codemirror_mode": {
    "name": "ipython",
    "version": 3
   },
   "file_extension": ".py",
   "mimetype": "text/x-python",
   "name": "python",
   "nbconvert_exporter": "python",
   "pygments_lexer": "ipython3",
   "version": "3.10.12"
  }
 },
 "nbformat": 4,
 "nbformat_minor": 5
}
