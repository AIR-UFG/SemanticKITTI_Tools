{
 "cells": [
  {
   "cell_type": "code",
   "execution_count": null,
   "id": "93a83d23",
   "metadata": {},
   "outputs": [],
   "source": [
    "#|default_exp data"
   ]
  },
  {
   "cell_type": "code",
   "execution_count": null,
   "id": "cd5340c0",
   "metadata": {},
   "outputs": [],
   "source": [
    "#| export\n",
    "import torch, os\n",
    "import numpy as np\n",
    "from torch.utils.data import Dataset\n",
    "from PIL import Image"
   ]
  },
  {
   "cell_type": "code",
   "execution_count": null,
   "id": "23826228",
   "metadata": {},
   "outputs": [],
   "source": [
    "#| export\n",
    "class SemanticDataset(Dataset):\n",
    "    def __init__(self, image_path, mask_path, transforms=None):\n",
    "        self.image_path = image_path\n",
    "        self.mask_path = mask_path\n",
    "        self.transforms = transforms\n",
    "        self.image_filenames = os.listdir(image_path)\n",
    "        self.mask_filenames = os.listdir(mask_path)\n",
    "\n",
    "    def __len__(self):\n",
    "        return len(self.image_filenames)\n",
    "\n",
    "    def __getitem__(self, idx):\n",
    "        img_name = os.path.join(self.image_path, self.image_filenames[idx])\n",
    "        mask_name = os.path.join(self.mask_path, self.mask_filenames[idx])\n",
    "\n",
    "        image = np.array(Image.open(img_name))\n",
    "        mask = np.array(Image.open(mask_name))\n",
    "\n",
    "        if self.transforms:\n",
    "            image = self.transforms(image)\n",
    "            mask = torch.from_numpy(mask.astype(np.int64))\n",
    "\n",
    "        return image, mask"
   ]
  },
  {
   "cell_type": "code",
   "execution_count": null,
   "id": "d065a32a",
   "metadata": {},
   "outputs": [],
   "source": [
    "#| hide\n",
    "import nbdev; nbdev.nbdev_export()"
   ]
  }
 ],
 "metadata": {
  "kernelspec": {
   "display_name": "python3",
   "language": "python",
   "name": "python3"
  }
 },
 "nbformat": 4,
 "nbformat_minor": 5
}
