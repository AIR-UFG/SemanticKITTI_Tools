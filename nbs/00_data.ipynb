{
 "cells": [
  {
   "cell_type": "code",
   "execution_count": null,
   "id": "93a83d23",
   "metadata": {},
   "outputs": [],
   "source": [
    "#|default_exp data"
   ]
  },
  {
   "cell_type": "code",
   "execution_count": null,
   "id": "cd5340c0",
   "metadata": {},
   "outputs": [],
   "source": [
    "#| export\n",
    "import torch, os\n",
    "import numpy as np\n",
    "from torch.utils.data import Dataset\n",
    "from PIL import Image"
   ]
  },
  {
   "cell_type": "code",
   "execution_count": null,
   "id": "23826228",
   "metadata": {},
   "outputs": [],
   "source": [
    "#| export\n",
    "class SemanticDataset(Dataset):\n",
    "    def __init__(self, image_path, mask_path, transform=None):\n",
    "        self.image_path = image_path\n",
    "        self.mask_path = mask_path\n",
    "        self.transform = transform\n",
    "        self.image_filenames = os.listdir(image_path)\n",
    "        self.mask_filenames = os.listdir(mask_path)\n",
    "\n",
    "    def __len__(self):\n",
    "        return len(self.image_filenames)\n",
    "\n",
    "    def __getitem__(self, idx):\n",
    "        img_name = os.path.join(self.image_path, self.image_filenames[idx])\n",
    "        mask_name = os.path.join(self.mask_path, self.mask_filenames[idx])\n",
    "\n",
    "        image = np.array(Image.open(img_name))\n",
    "        mask = np.array(Image.open(mask_name))\n",
    "\n",
    "        if self.transform:\n",
    "            image = self.transform(image)\n",
    "            mask = torch.from_numpy(mask.astype(np.int64))\n",
    "\n",
    "        return image, mask"
   ]
  },
  {
   "cell_type": "code",
   "execution_count": null,
   "id": "f5a7f905-abe7-4498-b5f9-67862638378a",
   "metadata": {},
   "outputs": [],
   "source": [
    "#| export\n",
    "def remap_segmentation_masks(origin_path, output_dir, remapping_rules):\n",
    "    input_dir = origin_path+\"segmentation_mask/\"\n",
    "        \n",
    "    for filename in os.listdir(input_dir):\n",
    "      if filename.endswith(\".png\"):\n",
    "          image_path = os.path.join(input_dir, filename)\n",
    "          img = Image.open(image_path)\n",
    "    \n",
    "          img_array = np.array(img)\n",
    "    \n",
    "          remapped_array = np.zeros_like(img_array)\n",
    "          for old_value, new_value in remapping_rules.items():\n",
    "              remapped_array[img_array == old_value] = new_value\n",
    "    \n",
    "          remapped_img = Image.fromarray(remapped_array)\n",
    "    \n",
    "          output_path = os.path.join(output_dir, filename)\n",
    "          remapped_img.save(output_path)"
   ]
  },
  {
   "cell_type": "code",
   "execution_count": 1,
   "id": "d065a32a",
   "metadata": {},
   "outputs": [],
   "source": [
    "#| hide\n",
    "import nbdev; nbdev.nbdev_export()"
   ]
  }
 ],
 "metadata": {
  "kernelspec": {
   "display_name": "Python 3 (ipykernel)",
   "language": "python",
   "name": "python3"
  },
  "language_info": {
   "codemirror_mode": {
    "name": "ipython",
    "version": 3
   },
   "file_extension": ".py",
   "mimetype": "text/x-python",
   "name": "python",
   "nbconvert_exporter": "python",
   "pygments_lexer": "ipython3",
   "version": "3.10.12"
  }
 },
 "nbformat": 4,
 "nbformat_minor": 5
}
